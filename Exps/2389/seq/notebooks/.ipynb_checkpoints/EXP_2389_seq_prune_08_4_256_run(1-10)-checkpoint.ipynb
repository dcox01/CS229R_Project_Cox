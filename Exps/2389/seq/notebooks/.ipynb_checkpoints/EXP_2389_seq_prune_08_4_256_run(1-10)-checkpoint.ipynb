{
 "cells": [
  {
   "cell_type": "markdown",
   "metadata": {},
   "source": [
    "### EXP_2389_seq_prune_08_4_256_run(1-10)\n",
    "Dan Cox May 2021 CS299 Project"
   ]
  },
  {
   "cell_type": "markdown",
   "metadata": {},
   "source": [
    "#### Imports"
   ]
  },
  {
   "cell_type": "code",
   "execution_count": null,
   "metadata": {},
   "outputs": [],
   "source": [
    "%matplotlib inline\n",
    "import numpy as np\n",
    "import matplotlib.pyplot as plt\n",
    "import pandas as pd\n",
    "import time\n",
    "import os\n",
    "import warnings\n",
    "from collections import OrderedDict\n",
    "\n",
    "from sklearn.metrics import mean_squared_error\n",
    "from sklearn.metrics import accuracy_score\n",
    "from sklearn.utils import shuffle\n",
    "\n",
    "import tensorflow as tf\n",
    "from tensorflow.keras import Input\n",
    "from tensorflow.keras.models import Sequential, Model\n",
    "from tensorflow.keras.layers import Dense, Dropout, Flatten,Reshape\n",
    "from tensorflow.keras.optimizers import Adam, SGD\n",
    "from tensorflow.keras.datasets import cifar10\n",
    "from tensorflow.keras.datasets import mnist\n",
    "from tensorflow.keras.utils import to_categorical\n",
    "\n",
    "import pickle\n",
    "import tempfile\n",
    "import n_cut.n_cut as nc\n",
    "import n_cut.MNIST_helper as mh"
   ]
  },
  {
   "cell_type": "markdown",
   "metadata": {},
   "source": [
    "#### Make experiments dict"
   ]
  },
  {
   "cell_type": "code",
   "execution_count": null,
   "metadata": {},
   "outputs": [],
   "source": [
    "exp_dict = OrderedDict()"
   ]
  },
  {
   "cell_type": "markdown",
   "metadata": {},
   "source": [
    "#### Get MNIST data"
   ]
  },
  {
   "cell_type": "code",
   "execution_count": null,
   "metadata": {},
   "outputs": [],
   "source": [
    "# Get mnist data split into train and test 60000 x 28 x 28 train, 10000 x 28 x28 test\n",
    "(x_train, y_train), (x_test, y_test) = tf.keras.datasets.mnist.load_data()\n",
    "x_train = x_train/255.0\n",
    "x_test = x_test/255.0"
   ]
  },
  {
   "cell_type": "markdown",
   "metadata": {},
   "source": [
    "#### Run experiment many times (num_runs)"
   ]
  },
  {
   "cell_type": "code",
   "execution_count": null,
   "metadata": {
    "scrolled": true
   },
   "outputs": [],
   "source": [
    "%%time\n",
    "series = [2,3,8,9]\n",
    "num_runs = 10\n",
    "name = '2389_seq_prune_08_4_256_run'\n",
    "for i in range(num_runs):\n",
    "    print(f'run {i}')\n",
    "    full_name = name + str(i)\n",
    "    \n",
    "    \n",
    "    model, history = nc.make_train_sequential_model(x_train=x_train,\n",
    "                                  y_train=y_train,\n",
    "                                  x_test=x_test,\n",
    "                                  y_test=y_test,\n",
    "                                  series=series,\n",
    "                                  num_hidden_layers=4,\n",
    "                                  num_hidden_nodes=256,\n",
    "                                  num_output_nodes=4,\n",
    "                                  pruning=0.8,\n",
    "                                  epochs_per_numeral=5,\n",
    "                                  num_cycles = 3, \n",
    "                                  verbose=2,\n",
    "                                  summary=False)\n",
    "    \n",
    "    exp_dict[full_name] = nc.get_n_cuts_and_p_value(\n",
    "                        model = model,\n",
    "                        model_history = history,\n",
    "                        num_clusters=4,\n",
    "                        random_state=None,\n",
    "                        identity=False,\n",
    "                        start=1,\n",
    "                        num_shuffle_trials=20)\n"
   ]
  },
  {
   "cell_type": "markdown",
   "metadata": {},
   "source": [
    "#### Convert Results to a dataframe"
   ]
  },
  {
   "cell_type": "code",
   "execution_count": null,
   "metadata": {},
   "outputs": [],
   "source": [
    "df = pd.DataFrame(exp_dict)\n",
    "df = df.T\n",
    "df_models = df.iloc[:, 0]\n",
    "df.columns = ['model','N_cut','Mean_n_cut_rand', 'Std_n_cut_rand', 'Ste_n_cut_rand', 'Percentile','P_value', 'Significance','Direction', 'Accuracy']\n",
    "df = df.drop('model', axis=1)\n",
    "df"
   ]
  },
  {
   "cell_type": "markdown",
   "metadata": {},
   "source": [
    "#### Save dataframe"
   ]
  },
  {
   "cell_type": "code",
   "execution_count": null,
   "metadata": {},
   "outputs": [],
   "source": [
    "import pickle\n",
    "\n",
    "with open('df_'+ name, 'wb') as fp:\n",
    "    pickle.dump(df, fp)\n",
    "    \n",
    "with open('df_'+ name, 'rb') as fp:\n",
    "    df = pickle.load(fp)\n",
    "df"
   ]
  },
  {
   "cell_type": "code",
   "execution_count": null,
   "metadata": {},
   "outputs": [],
   "source": [
    "df_models[0].layers[1].get_weights()[0]"
   ]
  },
  {
   "cell_type": "markdown",
   "metadata": {},
   "source": [
    "#### Look at results of first experiment"
   ]
  },
  {
   "cell_type": "code",
   "execution_count": null,
   "metadata": {},
   "outputs": [],
   "source": [
    "for val in exp_dict[name + str(0)]:\n",
    "    print(val)"
   ]
  },
  {
   "cell_type": "code",
   "execution_count": null,
   "metadata": {},
   "outputs": [],
   "source": [
    "# file_list = ['df_2467_sim_prune_0_4_64_run',\n",
    "#             'df_2467_sim_prune_0_4_128_run',\n",
    "#             'df_2467_sim_prune_0_4_256_run',\n",
    "#             'df_2467_sim_prune_04_4_64_run',\n",
    "#             'df_2467_sim_prune_04_4_128_run',\n",
    "#             'df_2467_sim_prune_04_4_256_run',\n",
    "#             'df_2467_sim_prune_08_2_32_run',\n",
    "#             'df_2467_sim_prune_08_4_64_run',\n",
    "#             'df_2467_sim_prune_08_4_128_run',\n",
    "#             'df_2467_sim_prune_08_4_256_run']\n",
    "# dfs = []\n",
    "# for f in file_list:\n",
    "#     file = './Exps/sim/' + f\n",
    "#     with open(f, 'rb') as fp:\n",
    "#         dfs.append(pickle.load(f))"
   ]
  }
 ],
 "metadata": {
  "kernelspec": {
   "display_name": "Python 3",
   "language": "python",
   "name": "python3"
  },
  "language_info": {
   "codemirror_mode": {
    "name": "ipython",
    "version": 3
   },
   "file_extension": ".py",
   "mimetype": "text/x-python",
   "name": "python",
   "nbconvert_exporter": "python",
   "pygments_lexer": "ipython3",
   "version": "3.8.3"
  }
 },
 "nbformat": 4,
 "nbformat_minor": 4
}
